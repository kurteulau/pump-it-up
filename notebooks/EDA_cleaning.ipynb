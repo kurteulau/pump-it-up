{
 "cells": [
  {
   "cell_type": "markdown",
   "id": "a5588d41",
   "metadata": {},
   "source": [
    "# Exploratory Data Analysis and Cleaning"
   ]
  },
  {
   "cell_type": "markdown",
   "id": "70bc9f48",
   "metadata": {},
   "source": [
    "* Suspect values and NaN's have been imputed. \n",
    "* Visualization provided when appropriate.\n",
    "* Two features, date_recorded and construction_year, have been synthesized into one engineered feature, years elapsed."
   ]
  },
  {
   "cell_type": "markdown",
   "id": "467a0fd8",
   "metadata": {},
   "source": [
    "# Imports"
   ]
  },
  {
   "cell_type": "code",
   "execution_count": 1,
   "id": "0e2f2ef6",
   "metadata": {},
   "outputs": [],
   "source": [
    "import numpy as np\n",
    "import pandas as pd\n",
    "import matplotlib.pyplot as plt\n",
    "import seaborn as sns\n",
    "from datetime import datetime\n",
    "%run -i imputing_functions.py"
   ]
  },
  {
   "cell_type": "code",
   "execution_count": 2,
   "id": "2a10f8a1",
   "metadata": {},
   "outputs": [],
   "source": [
    "TRAIN_FEATURES = '../data/external/pump-it-up-training-features.csv'\n",
    "TRAIN_LABELS = '../data/external/pump-it-up-training-labels.csv'\n",
    "#TRAIN_FEATURES = '../data/external/pump-it-up-test-features.csv'\n",
    "\n",
    "train_features = pd.read_csv(TRAIN_FEATURES)\n",
    "train_labels = pd.read_csv(TRAIN_LABELS)\n",
    "train_full = pd.merge(train_features, train_labels, on='id')\n",
    "\n",
    "REGIONS = train_features['region'].unique().tolist()\n",
    "DISTRICTS = train_features['district_code'].unique().tolist()\n",
    "SEED = 42\n",
    "NUM_WELLS_TRAINING = train_features.shape[0]\n",
    "\n",
    "sns.set_palette('colorblind')"
   ]
  },
  {
   "cell_type": "markdown",
   "id": "52bf216b",
   "metadata": {},
   "source": [
    "# First Look"
   ]
  },
  {
   "cell_type": "code",
   "execution_count": 3,
   "id": "ad88af7c",
   "metadata": {},
   "outputs": [
    {
     "name": "stdout",
     "output_type": "stream",
     "text": [
      "<class 'pandas.core.frame.DataFrame'>\n",
      "RangeIndex: 14850 entries, 0 to 14849\n",
      "Data columns (total 40 columns):\n",
      " #   Column                 Non-Null Count  Dtype  \n",
      "---  ------                 --------------  -----  \n",
      " 0   id                     14850 non-null  int64  \n",
      " 1   amount_tsh             14850 non-null  float64\n",
      " 2   date_recorded          14850 non-null  object \n",
      " 3   funder                 13981 non-null  object \n",
      " 4   gps_height             14850 non-null  int64  \n",
      " 5   installer              13973 non-null  object \n",
      " 6   longitude              14850 non-null  float64\n",
      " 7   latitude               14850 non-null  float64\n",
      " 8   wpt_name               14850 non-null  object \n",
      " 9   num_private            14850 non-null  int64  \n",
      " 10  basin                  14850 non-null  object \n",
      " 11  subvillage             14751 non-null  object \n",
      " 12  region                 14850 non-null  object \n",
      " 13  region_code            14850 non-null  int64  \n",
      " 14  district_code          14850 non-null  int64  \n",
      " 15  lga                    14850 non-null  object \n",
      " 16  ward                   14850 non-null  object \n",
      " 17  population             14850 non-null  int64  \n",
      " 18  public_meeting         14029 non-null  object \n",
      " 19  recorded_by            14850 non-null  object \n",
      " 20  scheme_management      13881 non-null  object \n",
      " 21  scheme_name            7758 non-null   object \n",
      " 22  permit                 14113 non-null  object \n",
      " 23  construction_year      14850 non-null  int64  \n",
      " 24  extraction_type        14850 non-null  object \n",
      " 25  extraction_type_group  14850 non-null  object \n",
      " 26  extraction_type_class  14850 non-null  object \n",
      " 27  management             14850 non-null  object \n",
      " 28  management_group       14850 non-null  object \n",
      " 29  payment                14850 non-null  object \n",
      " 30  payment_type           14850 non-null  object \n",
      " 31  water_quality          14850 non-null  object \n",
      " 32  quality_group          14850 non-null  object \n",
      " 33  quantity               14850 non-null  object \n",
      " 34  quantity_group         14850 non-null  object \n",
      " 35  source                 14850 non-null  object \n",
      " 36  source_type            14850 non-null  object \n",
      " 37  source_class           14850 non-null  object \n",
      " 38  waterpoint_type        14850 non-null  object \n",
      " 39  waterpoint_type_group  14850 non-null  object \n",
      "dtypes: float64(3), int64(7), object(30)\n",
      "memory usage: 4.5+ MB\n"
     ]
    }
   ],
   "source": [
    "train_features.info()"
   ]
  },
  {
   "cell_type": "code",
   "execution_count": 4,
   "id": "c9a2421e",
   "metadata": {},
   "outputs": [
    {
     "data": {
      "text/plain": [
       "funder                869\n",
       "installer             877\n",
       "subvillage             99\n",
       "public_meeting        821\n",
       "scheme_management     969\n",
       "scheme_name          7092\n",
       "permit                737\n",
       "dtype: int64"
      ]
     },
     "execution_count": 4,
     "metadata": {},
     "output_type": "execute_result"
    }
   ],
   "source": [
    "# Number of NaN values in features that have NaN's\n",
    "feature_na_counts = pd.isna(train_features).sum()\n",
    "feature_na_counts[feature_na_counts != 0]"
   ]
  },
  {
   "cell_type": "code",
   "execution_count": 5,
   "id": "efbb959c",
   "metadata": {},
   "outputs": [
    {
     "name": "stdout",
     "output_type": "stream",
     "text": [
      "amount_tsh 10410\n",
      "gps_height 5211\n",
      "longitude 457\n",
      "num_private 14656\n",
      "district_code 4\n",
      "population 5453\n",
      "public_meeting 1291\n",
      "permit 4359\n",
      "construction_year 5260\n"
     ]
    }
   ],
   "source": [
    "# Number of zeros in features that have zeros\n",
    "features = list(train_features.columns)\n",
    "\n",
    "for feature in features:\n",
    "    num_zeros = (train_features[feature] == 0).sum()\n",
    "    if num_zeros > 0:\n",
    "        print(feature, num_zeros)"
   ]
  },
  {
   "cell_type": "code",
   "execution_count": 6,
   "id": "cf877530",
   "metadata": {},
   "outputs": [
    {
     "data": {
      "image/png": "[encoded data removed]",
      "text/plain": [
       "<Figure size 432x288 with 1 Axes>"
      ]
     },
     "metadata": {},
     "output_type": "display_data"
    }
   ],
   "source": [
    "# Majority of wells are 'functional' and only a few are 'functional needs repair'\n",
    "label_dist = train_labels['status_group'].value_counts(normalize=True)\n",
    "plt.pie(label_dist, \n",
    "        labels = label_dist.index,\n",
    "        colors = ['yellowgreen', 'salmon', 'khaki'],\n",
    "        autopct='%.0f%%')\n",
    "plt.title('Majority of wells are functional', size=14)\n",
    "plt.show()"
   ]
  },
  {
   "cell_type": "markdown",
   "id": "cc758edc",
   "metadata": {},
   "source": [
    "# Examining Features"
   ]
  },
  {
   "cell_type": "markdown",
   "id": "de2b2cab",
   "metadata": {},
   "source": [
    "## amount_tsh"
   ]
  },
  {
   "cell_type": "code",
   "execution_count": 7,
   "id": "a2eb54a0",
   "metadata": {},
   "outputs": [
    {
     "data": {
      "text/plain": [
       "count     14850.000000\n",
       "mean        322.826983\n",
       "std        2510.968644\n",
       "min           0.000000\n",
       "25%           0.000000\n",
       "50%           0.000000\n",
       "75%          25.000000\n",
       "max      200000.000000\n",
       "Name: amount_tsh, dtype: float64"
      ]
     },
     "execution_count": 7,
     "metadata": {},
     "output_type": "execute_result"
    }
   ],
   "source": [
    "train_features['amount_tsh'].describe()"
   ]
  },
  {
   "cell_type": "code",
   "execution_count": 8,
   "id": "b3f81a21",
   "metadata": {},
   "outputs": [],
   "source": [
    "train_features.loc[train_features['amount_tsh'] == 0, 'amount_tsh'] = np.nan\n",
    "fill_na_median_area(df=train_features, num_col='amount_tsh')"
   ]
  },
  {
   "cell_type": "markdown",
   "id": "97f79872",
   "metadata": {},
   "source": [
    "## date_recorded\n",
    "date_recorded will become synthesized along with construction_year into synthetic feature, years_elapsed."
   ]
  },
  {
   "cell_type": "markdown",
   "id": "eec868e7",
   "metadata": {},
   "source": [
    "## funder"
   ]
  },
  {
   "cell_type": "code",
   "execution_count": 9,
   "id": "918371d0",
   "metadata": {},
   "outputs": [],
   "source": [
    "train_features['funder'] = train_features['funder'].str.lower()\n",
    "train_features['funder'] = train_features['funder'].str.replace('  ', ' ')\n",
    "train_features.loc[train_features['funder'] == '0', 'funder'] = np.nan"
   ]
  },
  {
   "cell_type": "code",
   "execution_count": 10,
   "id": "39826525",
   "metadata": {},
   "outputs": [],
   "source": [
    "single_occurences_to_other(df=train_features, col='funder')"
   ]
  },
  {
   "cell_type": "code",
   "execution_count": 11,
   "id": "49910c32",
   "metadata": {},
   "outputs": [],
   "source": [
    "replace_na_region_district_mode(train_features, 'funder')\n",
    "replace_na_region_mode(train_features, 'funder')\n",
    "dataset_mode = train_features['funder'].mode()[0]\n",
    "train_features['funder'].fillna(dataset_mode, inplace=True)"
   ]
  },
  {
   "cell_type": "code",
   "execution_count": 12,
   "id": "57dd3ecb",
   "metadata": {},
   "outputs": [],
   "source": [
    "top_ten_funders = train_features['funder'].value_counts()[:10]\n",
    "top_ten_funders = pd.DataFrame(top_ten_funders)\n",
    "top_ten_funders.rename(columns = {'funder':'wells_funded'}, \n",
    "                       inplace = True)\n",
    "top_ten_funders['percent_funded'] = top_ten_funders['wells_funded'] / NUM_WELLS_TRAINING * 100"
   ]
  },
  {
   "cell_type": "code",
   "execution_count": 13,
   "id": "cfdbc2ce",
   "metadata": {},
   "outputs": [
    {
     "data": {
      "image/png": "[encoded data removed]",
      "text/plain": [
       "<Figure size 360x360 with 1 Axes>"
      ]
     },
     "metadata": {
      "needs_background": "light"
     },
     "output_type": "display_data"
    }
   ],
   "source": [
    "sns.catplot(data=top_ten_funders,\n",
    "            x=top_ten_funders.index,\n",
    "            y='percent_funded',\n",
    "            kind='bar',\n",
    "            ci=None)\n",
    "plt.title('Govt of Tanzania Built Almost 19% of All Wells', \n",
    "          size=16,\n",
    "          y=1.08)\n",
    "plt.xlabel('Top 10 Funders', size=14)\n",
    "plt.xticks(rotation=45, ha='right')\n",
    "plt.xlim(-0.7, top_ten_funders.shape[0])\n",
    "plt.ylabel('Percent of All Wells Funded', size=14)\n",
    "plt.ylim(0, 20)\n",
    "plt.yticks([0, 5, 10, 15, 20])\n",
    "plt.show()"
   ]
  },
  {
   "cell_type": "markdown",
   "id": "81d4ea26",
   "metadata": {},
   "source": [
    "## gps_height"
   ]
  },
  {
   "cell_type": "code",
   "execution_count": 14,
   "id": "cbe3b827",
   "metadata": {},
   "outputs": [
    {
     "data": {
      "text/plain": [
       "count    14850.000000\n",
       "mean       655.147609\n",
       "std        691.261185\n",
       "min        -57.000000\n",
       "25%          0.000000\n",
       "50%        344.000000\n",
       "75%       1308.000000\n",
       "max       2777.000000\n",
       "Name: gps_height, dtype: float64"
      ]
     },
     "execution_count": 14,
     "metadata": {},
     "output_type": "execute_result"
    }
   ],
   "source": [
    "train_features['gps_height'].describe()"
   ]
  },
  {
   "cell_type": "code",
   "execution_count": 15,
   "id": "b9d62e76",
   "metadata": {},
   "outputs": [],
   "source": [
    "# Impute zeros with median since Tanzania is mountainous country\n",
    "train_features.loc[train_features['gps_height'] == 0, 'gps_height'] = np.nan\n",
    "fill_na_median_area(df=train_features, num_col='gps_height')"
   ]
  },
  {
   "cell_type": "markdown",
   "id": "f1067c84",
   "metadata": {},
   "source": [
    "## installer"
   ]
  },
  {
   "cell_type": "code",
   "execution_count": 16,
   "id": "437260a4",
   "metadata": {},
   "outputs": [],
   "source": [
    "train_features['installer'] = train_features['installer'].str.lower()\n",
    "train_features['installer'] = train_features['installer'].str.replace('  ', ' ')\n",
    "train_features.loc[train_features['installer'] == '0', 'installer'] = np.nan"
   ]
  },
  {
   "cell_type": "code",
   "execution_count": 17,
   "id": "aea6ca8d",
   "metadata": {},
   "outputs": [],
   "source": [
    "single_occurences_to_other(df=train_features, col='installer')"
   ]
  },
  {
   "cell_type": "code",
   "execution_count": 18,
   "id": "0216b11e",
   "metadata": {},
   "outputs": [],
   "source": [
    "replace_na_region_district_mode(train_features, 'installer')\n",
    "replace_na_region_mode(train_features, 'installer')\n",
    "dataset_mode = train_features['installer'].mode()[0]\n",
    "train_features['installer'].fillna(dataset_mode, inplace=True)"
   ]
  },
  {
   "cell_type": "markdown",
   "id": "2618aed7",
   "metadata": {},
   "source": [
    "## latitude and longitude"
   ]
  },
  {
   "cell_type": "code",
   "execution_count": 19,
   "id": "612a6fbc",
   "metadata": {},
   "outputs": [],
   "source": [
    "# 1812 observations from two regions have longitude and latitude of\n",
    "# zero, which is outside Tanzania.\n",
    "train_features.loc[(train_features['latitude'] > -0.1), 'latitude'] = 0\n",
    "train_features.loc[train_features['latitude'] == 0, 'latitude'] = np.nan\n",
    "train_features.loc[train_features['longitude'] == 0, 'longitude'] = np.nan"
   ]
  },
  {
   "cell_type": "code",
   "execution_count": 20,
   "id": "9dd6af9b",
   "metadata": {},
   "outputs": [
    {
     "name": "stdout",
     "output_type": "stream",
     "text": [
      "457\n",
      "457\n"
     ]
    }
   ],
   "source": [
    "print(train_features['latitude'].isna().sum())\n",
    "print(train_features['longitude'].isna().sum())"
   ]
  },
  {
   "cell_type": "code",
   "execution_count": 21,
   "id": "012f1591",
   "metadata": {},
   "outputs": [],
   "source": [
    "fill_na_mean_area(df=train_features, num_col='latitude')\n",
    "fill_na_mean_area(df=train_features, num_col='longitude')"
   ]
  },
  {
   "cell_type": "code",
   "execution_count": 22,
   "id": "6dc996c4",
   "metadata": {},
   "outputs": [
    {
     "name": "stderr",
     "output_type": "stream",
     "text": [
      "No handles with labels found to put in legend.\n"
     ]
    },
    {
     "data": {
      "image/png": "[encoded data removed]",
      "text/plain": [
       "<Figure size 432x432 with 1 Axes>"
      ]
     },
     "metadata": {
      "needs_background": "light"
     },
     "output_type": "display_data"
    }
   ],
   "source": [
    "fig, ax = plt.subplots(figsize=(6, 6))\n",
    "\n",
    "palette ={'functional': 'mediumseagreen',\n",
    "          'functional needs repair': 'yellow',\n",
    "          'non functional': 'red'} \n",
    "\n",
    "sns.scatterplot(data=train_full, \n",
    "                    x='longitude', \n",
    "                    y='latitude', \n",
    "                    hue='status_group',\n",
    "                    palette=palette,\n",
    "                    style='status_group',\n",
    "                    alpha=0.2)\n",
    "\n",
    "ax.set_title('Pockets of Functional and Non Functional Wells',\n",
    "             size=14,\n",
    "             y=1.04)\n",
    "ax.legend(bbox_to_anchor= (0.5, 0.19))\n",
    "ax.set_xlim(28, 41)\n",
    "ax.set_xticks(range(28, 41))\n",
    "ax.set_ylim(-13, 0)\n",
    "ax.set_yticks(range(-13, 0))\n",
    "ax.set_aspect(aspect=1)\n",
    "plt.show()"
   ]
  },
  {
   "cell_type": "markdown",
   "id": "11132af6",
   "metadata": {},
   "source": [
    "## wpt_name"
   ]
  },
  {
   "cell_type": "code",
   "execution_count": 23,
   "id": "c02d9513",
   "metadata": {},
   "outputs": [
    {
     "data": {
      "text/plain": [
       "none                    877\n",
       "Shuleni                 435\n",
       "Zahanati                204\n",
       "Msikitini               112\n",
       "Sokoni                   68\n",
       "                       ... \n",
       "Kwa Msuri                 1\n",
       "Dawa Msanfwa              1\n",
       "Mahagashi                 1\n",
       "Kwa Ndagabisa             1\n",
       "Shuleni Mwalinha P/S      1\n",
       "Name: wpt_name, Length: 10840, dtype: int64"
      ]
     },
     "execution_count": 23,
     "metadata": {},
     "output_type": "execute_result"
    }
   ],
   "source": [
    "train_features['wpt_name'].value_counts()"
   ]
  },
  {
   "cell_type": "markdown",
   "id": "460bba3a",
   "metadata": {},
   "source": [
    "## num_private"
   ]
  },
  {
   "cell_type": "code",
   "execution_count": 24,
   "id": "e2b07dea",
   "metadata": {},
   "outputs": [
    {
     "name": "stdout",
     "output_type": "stream",
     "text": [
      "98.69% of num_private values are zero\n"
     ]
    }
   ],
   "source": [
    "percent_num_private_zero = (train_features['num_private'] == 0).sum() / NUM_WELLS_TRAINING * 100\n",
    "print('{}% of num_private values are zero'.format(round(percent_num_private_zero, 2)))"
   ]
  },
  {
   "cell_type": "markdown",
   "id": "bf7a727d",
   "metadata": {},
   "source": [
    "## basin"
   ]
  },
  {
   "cell_type": "code",
   "execution_count": 25,
   "id": "42fbdefd",
   "metadata": {
    "scrolled": true
   },
   "outputs": [
    {
     "name": "stdout",
     "output_type": "stream",
     "text": [
      "count             14850\n",
      "unique                9\n",
      "top       Lake Victoria\n",
      "freq               2623\n",
      "Name: basin, dtype: object \n",
      "\n",
      "Basins: ['Internal', 'Pangani', 'Ruvuma / Southern Coast', 'Rufiji', 'Lake Victoria', 'Lake Tanganyika', 'Wami / Ruvu', 'Lake Rukwa', 'Lake Nyasa']\n"
     ]
    }
   ],
   "source": [
    "print(train_features['basin'].describe(), '\\n')\n",
    "print('Basins:', train_features['basin'].unique().tolist())"
   ]
  },
  {
   "cell_type": "code",
   "execution_count": 26,
   "id": "7296bde7",
   "metadata": {},
   "outputs": [
    {
     "data": {
      "image/png": "[encoded data removed]",
      "text/plain": [
       "<Figure size 360x360 with 1 Axes>"
      ]
     },
     "metadata": {
      "needs_background": "light"
     },
     "output_type": "display_data"
    }
   ],
   "source": [
    "wells_by_basin = pd.DataFrame(train_features.groupby('basin')['id'].count())\n",
    "\n",
    "sns.catplot(data=wells_by_basin,\n",
    "            x=wells_by_basin.index,\n",
    "            y='id',\n",
    "            kind='bar',\n",
    "            ci=None)\n",
    "plt.title('Uneven Distribution of Wells by Basin', \n",
    "          size=16,\n",
    "          y=1.08)\n",
    "plt.xlabel('Basin', size=14)\n",
    "plt.xticks(rotation=45, ha='right')\n",
    "plt.xlim(-0.6, wells_by_basin.shape[0])\n",
    "plt.ylabel('Number of wells', size=14)\n",
    "plt.show()"
   ]
  },
  {
   "cell_type": "markdown",
   "id": "a9bfb4ec",
   "metadata": {},
   "source": [
    "## subvillage"
   ]
  },
  {
   "cell_type": "code",
   "execution_count": 27,
   "id": "82d52e9b",
   "metadata": {},
   "outputs": [],
   "source": [
    "# Wards are next smallest geographic area in Tanzania. Sometimes \n",
    "# (like in cities) the ward and the village are the same.\n",
    "train_features['subvillage'].fillna(train_features['ward'], inplace=True)"
   ]
  },
  {
   "cell_type": "markdown",
   "id": "240123da",
   "metadata": {},
   "source": [
    "## region and region_code"
   ]
  },
  {
   "cell_type": "code",
   "execution_count": 28,
   "id": "ada43db9",
   "metadata": {},
   "outputs": [
    {
     "data": {
      "image/png": "[encoded data removed]",
      "text/plain": [
       "<Figure size 360x360 with 1 Axes>"
      ]
     },
     "metadata": {
      "needs_background": "light"
     },
     "output_type": "display_data"
    }
   ],
   "source": [
    "wells_by_region = pd.DataFrame(train_features.groupby('region')['id'].count())\n",
    "\n",
    "sns.catplot(data=wells_by_region,\n",
    "            x=wells_by_region.index,\n",
    "            y='id',\n",
    "            kind='bar',\n",
    "            ci=None)\n",
    "plt.title('Uneven Distribution of Wells by Region', \n",
    "          size=16,\n",
    "          y=1.08)\n",
    "plt.xlabel('Region', size=14)\n",
    "plt.xlim(-0.7, wells_by_region.shape[0])\n",
    "plt.xticks(rotation=45, ha='right')\n",
    "plt.ylabel('Number of wells', size=14)\n",
    "plt.show()"
   ]
  },
  {
   "cell_type": "markdown",
   "id": "a22ba95c",
   "metadata": {},
   "source": [
    "## district_code, lga, and ward"
   ]
  },
  {
   "cell_type": "code",
   "execution_count": 29,
   "id": "2ffacf49",
   "metadata": {},
   "outputs": [],
   "source": [
    "# clean data"
   ]
  },
  {
   "cell_type": "markdown",
   "id": "44d57e8a",
   "metadata": {},
   "source": [
    "## population"
   ]
  },
  {
   "cell_type": "code",
   "execution_count": 30,
   "id": "7279086d",
   "metadata": {},
   "outputs": [
    {
     "name": "stdout",
     "output_type": "stream",
     "text": [
      "5453 waterpoints have population of 0\n",
      "1757 waterpoints have population of 1\n"
     ]
    }
   ],
   "source": [
    "# Populations of 0 or 1 seem suspicious\n",
    "for i in range(2):\n",
    "    print('{} waterpoints have population of {}'.format(\n",
    "        (train_features['population'] == i).sum(), i))"
   ]
  },
  {
   "cell_type": "code",
   "execution_count": 31,
   "id": "8ac11b5c",
   "metadata": {},
   "outputs": [],
   "source": [
    "pre_impute_pop_df = train_features.loc[:, ['id', 'population']]\n",
    "pre_impute_pop_df.rename(columns = {'population':'pre_impute_pop'}, \n",
    "                       inplace = True)"
   ]
  },
  {
   "cell_type": "code",
   "execution_count": 32,
   "id": "54a8694e",
   "metadata": {},
   "outputs": [],
   "source": [
    "pop_0 = train_features['population'] == 0\n",
    "pop_1 = train_features['population'] == 1\n",
    "train_features.loc[pop_0 | pop_1, 'population'] = np.nan\n",
    "fill_na_median_area(df=train_features, num_col='population')\n",
    "train_features['population'] = train_features['population'].astype(int)"
   ]
  },
  {
   "cell_type": "code",
   "execution_count": 33,
   "id": "658f9d5c",
   "metadata": {},
   "outputs": [],
   "source": [
    "pop_df = pd.merge(pre_impute_pop_df, \n",
    "                  train_features[['id', 'population']],\n",
    "                  on='id')\n",
    "pop_df.rename(columns = {'population':'post_impute_pop'}, \n",
    "                       inplace = True)\n",
    "\n",
    "pop_500_pre_impute = pop_df['pre_impute_pop'] <= 500\n",
    "pop_500_post_impute = pop_df['post_impute_pop'] <= 500\n",
    "pop_500_df = pop_df[pop_500_pre_impute & pop_500_post_impute]"
   ]
  },
  {
   "cell_type": "code",
   "execution_count": 34,
   "id": "45605ef3",
   "metadata": {},
   "outputs": [
    {
     "data": {
      "image/png": "[encoded data removed]",
      "text/plain": [
       "<Figure size 432x432 with 2 Axes>"
      ]
     },
     "metadata": {
      "needs_background": "light"
     },
     "output_type": "display_data"
    }
   ],
   "source": [
    "fig, (ax1, ax2) = plt.subplots(2, sharex=True, figsize=(6, 6))\n",
    "sns.set_style(style=\"whitegrid\",\n",
    "              rc= {'patch.edgecolor': 'lightblue',\n",
    "                   'grid.linestyle': ':'})\n",
    "\n",
    "plt.subplot(2, 1, 1)\n",
    "sns.histplot(data=pop_500_df, x='pre_impute_pop')\n",
    "plt.title('Imputing Population Yields More Plausible Distribution',\n",
    "          size=14,\n",
    "          y=1.15)\n",
    "plt.xlabel('Population Before Imputation')\n",
    "plt.yticks(range(0, 40000, 10000))\n",
    "\n",
    "plt.subplot(2, 1, 2)\n",
    "sns.histplot(data=pop_500_df, x='post_impute_pop')\n",
    "plt.yticks(range(0, 40000, 10000))\n",
    "plt.xlabel('Population After Imputation')\n",
    "\n",
    "plt.tight_layout()\n",
    "plt.show()"
   ]
  },
  {
   "cell_type": "markdown",
   "id": "deb5e115",
   "metadata": {},
   "source": [
    "## public_meeting"
   ]
  },
  {
   "cell_type": "code",
   "execution_count": 35,
   "id": "e6d311bd",
   "metadata": {},
   "outputs": [
    {
     "name": "stdout",
     "output_type": "stream",
     "text": [
      "True     12738\n",
      "False     1291\n",
      "Name: public_meeting, dtype: int64\n"
     ]
    }
   ],
   "source": [
    "print(train_features['public_meeting'].value_counts())\n",
    "train_features['public_meeting'].fillna(True, inplace=True)"
   ]
  },
  {
   "cell_type": "markdown",
   "id": "70972ccb",
   "metadata": {},
   "source": [
    "## recorded_by"
   ]
  },
  {
   "cell_type": "code",
   "execution_count": 36,
   "id": "674fb7eb",
   "metadata": {},
   "outputs": [
    {
     "data": {
      "text/plain": [
       "count                       14850\n",
       "unique                          1\n",
       "top       GeoData Consultants Ltd\n",
       "freq                        14850\n",
       "Name: recorded_by, dtype: object"
      ]
     },
     "execution_count": 36,
     "metadata": {},
     "output_type": "execute_result"
    }
   ],
   "source": [
    "train_features['recorded_by'].describe()"
   ]
  },
  {
   "cell_type": "markdown",
   "id": "f757db1b",
   "metadata": {},
   "source": [
    "## scheme_management and scheme_name"
   ]
  },
  {
   "cell_type": "code",
   "execution_count": 37,
   "id": "b9f76ca3",
   "metadata": {},
   "outputs": [],
   "source": [
    "replace_na_region_district_mode(train_features, 'scheme_management')"
   ]
  },
  {
   "cell_type": "markdown",
   "id": "96b95e53",
   "metadata": {},
   "source": [
    "## permit"
   ]
  },
  {
   "cell_type": "code",
   "execution_count": 38,
   "id": "2cfa623b",
   "metadata": {},
   "outputs": [
    {
     "name": "stdout",
     "output_type": "stream",
     "text": [
      "True     9754\n",
      "False    4359\n",
      "Name: permit, dtype: int64\n",
      "Number of NaNs: 737\n"
     ]
    }
   ],
   "source": [
    "permit_mode = (train_features['permit'].mode())[0]\n",
    "print(train_features['permit'].value_counts())\n",
    "print('Number of NaNs:', train_features['permit'].isna().sum())"
   ]
  },
  {
   "cell_type": "code",
   "execution_count": 39,
   "id": "5e375ab6",
   "metadata": {},
   "outputs": [],
   "source": [
    "replace_na_region_district_mode(train_features, 'permit')"
   ]
  },
  {
   "cell_type": "code",
   "execution_count": 40,
   "id": "4e1c801d",
   "metadata": {},
   "outputs": [
    {
     "data": {
      "text/plain": [
       "346"
      ]
     },
     "execution_count": 40,
     "metadata": {},
     "output_type": "execute_result"
    }
   ],
   "source": [
    "train_features['permit'].isna().sum()"
   ]
  },
  {
   "cell_type": "code",
   "execution_count": 41,
   "id": "8c374f14",
   "metadata": {},
   "outputs": [],
   "source": [
    "train_features['permit'].fillna(permit_mode, inplace=True)"
   ]
  },
  {
   "cell_type": "markdown",
   "id": "a28d59ca",
   "metadata": {},
   "source": [
    "## construction_year"
   ]
  },
  {
   "cell_type": "code",
   "execution_count": 42,
   "id": "bba0ea7f",
   "metadata": {},
   "outputs": [
    {
     "name": "stdout",
     "output_type": "stream",
     "text": [
      "There are 5260 waterpoints with construction_year of NaN\n"
     ]
    }
   ],
   "source": [
    "# Missing values listed as 0\n",
    "train_features.loc[train_features['construction_year'] == 0, 'construction_year'] = np.nan\n",
    "print('There are {} waterpoints with construction_year of NaN'.format(\n",
    "      train_features['construction_year'].isna().sum()))"
   ]
  },
  {
   "cell_type": "code",
   "execution_count": 43,
   "id": "775e1e3f",
   "metadata": {},
   "outputs": [],
   "source": [
    "# Use median to impute due to distribution with long left tail\n",
    "fill_na_median_area(df=train_features, num_col='construction_year')\n",
    "train_features['construction_year'] = train_features['construction_year'].astype('int')"
   ]
  },
  {
   "cell_type": "code",
   "execution_count": 44,
   "id": "4f4a1492",
   "metadata": {},
   "outputs": [],
   "source": [
    "train_features['date_recorded'] = pd.to_datetime(train_features['date_recorded'])\n",
    "train_features['construction_year'] = pd.to_datetime(train_features['construction_year'], format='%Y')\n",
    "train_features['years_elapsed'] = train_features['date_recorded'].dt.year - train_features['construction_year'].dt.year"
   ]
  },
  {
   "cell_type": "code",
   "execution_count": 45,
   "id": "e37f9f11",
   "metadata": {},
   "outputs": [
    {
     "name": "stdout",
     "output_type": "stream",
     "text": [
      "Wells with negative years_elapsed: 4\n",
      "Wells with negative years_elapsed: 0\n"
     ]
    }
   ],
   "source": [
    "train_features[train_features['years_elapsed'] < 0][['date_recorded', \n",
    "                                                           'construction_year', \n",
    "                                                           'years_elapsed']]\n",
    "print('Wells with negative years_elapsed:', train_features[train_features['years_elapsed'] < 0].shape[0])\n",
    "train_features.loc[train_features['years_elapsed'] < 0, 'years_elapsed'] = 0\n",
    "print('Wells with negative years_elapsed:', train_features[train_features['years_elapsed'] < 0].shape[0])"
   ]
  },
  {
   "cell_type": "code",
   "execution_count": 46,
   "id": "3d1f0ac9",
   "metadata": {},
   "outputs": [
    {
     "data": {
      "image/png": "[encoded data removed]",
      "text/plain": [
       "<Figure size 432x288 with 1 Axes>"
      ]
     },
     "metadata": {},
     "output_type": "display_data"
    }
   ],
   "source": [
    "sns.histplot(data=train_features, x='years_elapsed')\n",
    "plt.title('Years Between Date of Construction and Date of Data Collection', \n",
    "          size=14,\n",
    "          y=1.08)\n",
    "plt.xlabel('Number of Years')\n",
    "plt.show()"
   ]
  },
  {
   "cell_type": "markdown",
   "id": "829757fc",
   "metadata": {},
   "source": [
    "## extraction_type, extraction_type_group, extraction_type_class"
   ]
  },
  {
   "cell_type": "code",
   "execution_count": 47,
   "id": "74da720c",
   "metadata": {},
   "outputs": [
    {
     "data": {
      "text/plain": [
       "extraction_type    extraction_type_group  extraction_type_class\n",
       "afridev            afridev                handpump                  438\n",
       "cemo               other motorpump        motorpump                  18\n",
       "climax             other motorpump        motorpump                   9\n",
       "gravity            gravity                gravity                  6483\n",
       "india mark ii      india mark ii          handpump                  629\n",
       "india mark iii     india mark iii         handpump                   37\n",
       "ksb                submersible            submersible               375\n",
       "mono               mono                   motorpump                 763\n",
       "nira/tanira        nira/tanira            handpump                 2051\n",
       "other              other                  other                    1672\n",
       "other - play pump  other handpump         handpump                   16\n",
       "other - rope pump  rope pump              rope pump                 121\n",
       "other - swn 81     other handpump         handpump                   55\n",
       "submersible        submersible            submersible              1218\n",
       "swn 80             swn 80                 handpump                  918\n",
       "walimi             other handpump         handpump                   12\n",
       "windmill           wind-powered           wind-powered               35\n",
       "dtype: int64"
      ]
     },
     "execution_count": 47,
     "metadata": {},
     "output_type": "execute_result"
    }
   ],
   "source": [
    "train_features.groupby(['extraction_type', 'extraction_type_group', 'extraction_type_class']).size()"
   ]
  },
  {
   "cell_type": "markdown",
   "id": "5eaf81d7",
   "metadata": {},
   "source": [
    "## management and management_group"
   ]
  },
  {
   "cell_type": "code",
   "execution_count": 48,
   "id": "0af840f9",
   "metadata": {},
   "outputs": [
    {
     "data": {
      "text/plain": [
       "management        management_group\n",
       "company           commercial            174\n",
       "other             other                 239\n",
       "other - school    other                  27\n",
       "parastatal        parastatal            461\n",
       "private operator  commercial            533\n",
       "trust             commercial             27\n",
       "unknown           unknown               122\n",
       "vwc               user-group          10117\n",
       "water authority   commercial            219\n",
       "water board       user-group            755\n",
       "wua               user-group            583\n",
       "wug               user-group           1593\n",
       "dtype: int64"
      ]
     },
     "execution_count": 48,
     "metadata": {},
     "output_type": "execute_result"
    }
   ],
   "source": [
    "train_features.groupby(['management', 'management_group']).size()"
   ]
  },
  {
   "cell_type": "markdown",
   "id": "10aade00",
   "metadata": {},
   "source": [
    "## payment and payment_type"
   ]
  },
  {
   "cell_type": "code",
   "execution_count": 49,
   "id": "76d39517",
   "metadata": {},
   "outputs": [
    {
     "data": {
      "text/plain": [
       "payment                payment_type\n",
       "never pay              never pay       6364\n",
       "other                  other            260\n",
       "pay annually           annually         928\n",
       "pay monthly            monthly         2097\n",
       "pay per bucket         per bucket      2281\n",
       "pay when scheme fails  on failure       928\n",
       "unknown                unknown         1992\n",
       "dtype: int64"
      ]
     },
     "execution_count": 49,
     "metadata": {},
     "output_type": "execute_result"
    }
   ],
   "source": [
    "train_features.groupby(['payment', 'payment_type']).size()"
   ]
  },
  {
   "cell_type": "markdown",
   "id": "e274a9cf",
   "metadata": {},
   "source": [
    "## water_quality and quality_group"
   ]
  },
  {
   "cell_type": "code",
   "execution_count": 50,
   "id": "7b044f91",
   "metadata": {},
   "outputs": [
    {
     "data": {
      "text/plain": [
       "water_quality       quality_group\n",
       "coloured            colored            133\n",
       "fluoride            fluoride            44\n",
       "fluoride abandoned  fluoride             6\n",
       "milky               milky              201\n",
       "salty               salty             1226\n",
       "salty abandoned     salty               84\n",
       "soft                good             12687\n",
       "unknown             unknown            469\n",
       "dtype: int64"
      ]
     },
     "execution_count": 50,
     "metadata": {},
     "output_type": "execute_result"
    }
   ],
   "source": [
    "train_features.groupby(['water_quality', 'quality_group']).size()"
   ]
  },
  {
   "cell_type": "markdown",
   "id": "f5bfbd7d",
   "metadata": {},
   "source": [
    "## quantity and quantity_group"
   ]
  },
  {
   "cell_type": "code",
   "execution_count": 51,
   "id": "1b95605c",
   "metadata": {
    "scrolled": true
   },
   "outputs": [
    {
     "data": {
      "text/plain": [
       "quantity      quantity_group\n",
       "dry           dry               1536\n",
       "enough        enough            8336\n",
       "insufficient  insufficient      3767\n",
       "seasonal      seasonal          1025\n",
       "unknown       unknown            186\n",
       "dtype: int64"
      ]
     },
     "execution_count": 51,
     "metadata": {},
     "output_type": "execute_result"
    }
   ],
   "source": [
    "train_features.groupby(['quantity', 'quantity_group']).size()"
   ]
  },
  {
   "cell_type": "markdown",
   "id": "6f551fd0",
   "metadata": {},
   "source": [
    "## source, source_type, source_class"
   ]
  },
  {
   "cell_type": "code",
   "execution_count": 52,
   "id": "ec3a915d",
   "metadata": {},
   "outputs": [
    {
     "data": {
      "text/plain": [
       "source                source_type           source_class\n",
       "dam                   dam                   surface          184\n",
       "hand dtw              borehole              groundwater      234\n",
       "lake                  river/lake            surface          185\n",
       "machine dbh           borehole              groundwater     2747\n",
       "other                 other                 unknown           49\n",
       "rainwater harvesting  rainwater harvesting  surface          568\n",
       "river                 river/lake            surface         2352\n",
       "shallow well          shallow well          groundwater     4316\n",
       "spring                spring                groundwater     4195\n",
       "unknown               other                 unknown           20\n",
       "dtype: int64"
      ]
     },
     "execution_count": 52,
     "metadata": {},
     "output_type": "execute_result"
    }
   ],
   "source": [
    "train_features.groupby(['source', 'source_type', 'source_class']).size()"
   ]
  },
  {
   "cell_type": "markdown",
   "id": "9d2024af",
   "metadata": {},
   "source": [
    "## waterpoint_type and waterpoint_type_group"
   ]
  },
  {
   "cell_type": "code",
   "execution_count": 53,
   "id": "0be53f4a",
   "metadata": {},
   "outputs": [
    {
     "data": {
      "text/plain": [
       "waterpoint_type              waterpoint_type_group\n",
       "cattle trough                cattle trough              34\n",
       "communal standpipe           communal standpipe       7106\n",
       "communal standpipe multiple  communal standpipe       1508\n",
       "dam                          dam                         1\n",
       "hand pump                    hand pump                4396\n",
       "improved spring              improved spring           175\n",
       "other                        other                    1630\n",
       "dtype: int64"
      ]
     },
     "execution_count": 53,
     "metadata": {},
     "output_type": "execute_result"
    }
   ],
   "source": [
    "train_features.groupby(['waterpoint_type', 'waterpoint_type_group']).size()"
   ]
  },
  {
   "cell_type": "markdown",
   "id": "e775104a",
   "metadata": {},
   "source": [
    "# Convert any remaining 'object' features that contain upper case to lower case"
   ]
  },
  {
   "cell_type": "code",
   "execution_count": 54,
   "id": "18597162",
   "metadata": {},
   "outputs": [
    {
     "name": "stdout",
     "output_type": "stream",
     "text": [
      "Names of object columns :  ['funder', 'installer', 'wpt_name', 'basin', 'subvillage', 'region', 'lga', 'ward', 'recorded_by', 'scheme_management', 'scheme_name', 'extraction_type', 'extraction_type_group', 'extraction_type_class', 'management', 'management_group', 'payment', 'payment_type', 'water_quality', 'quality_group', 'quantity', 'quantity_group', 'source', 'source_type', 'source_class', 'waterpoint_type', 'waterpoint_type_group']\n"
     ]
    },
    {
     "data": {
      "text/plain": [
       "id                                         50785\n",
       "amount_tsh                                  20.0\n",
       "date_recorded                2013-02-04 00:00:00\n",
       "funder                                      dmdd\n",
       "gps_height                                1996.0\n",
       "installer                                   dmdd\n",
       "longitude                              35.290799\n",
       "latitude                               -4.059696\n",
       "wpt_name                 dinamu secondary school\n",
       "num_private                                    0\n",
       "basin                                   internal\n",
       "subvillage                                magoma\n",
       "region                                   manyara\n",
       "region_code                                   21\n",
       "district_code                                  3\n",
       "lga                                        mbulu\n",
       "ward                                      bashay\n",
       "population                                   321\n",
       "public_meeting                              True\n",
       "recorded_by              geodata consultants ltd\n",
       "scheme_management                     parastatal\n",
       "scheme_name                                  NaN\n",
       "permit                                      True\n",
       "construction_year            2012-01-01 00:00:00\n",
       "extraction_type                            other\n",
       "extraction_type_group                      other\n",
       "extraction_type_class                      other\n",
       "management                            parastatal\n",
       "management_group                      parastatal\n",
       "payment                                never pay\n",
       "payment_type                           never pay\n",
       "water_quality                               soft\n",
       "quality_group                               good\n",
       "quantity                                seasonal\n",
       "quantity_group                          seasonal\n",
       "source                      rainwater harvesting\n",
       "source_type                 rainwater harvesting\n",
       "source_class                             surface\n",
       "waterpoint_type                            other\n",
       "waterpoint_type_group                      other\n",
       "years_elapsed                                  1\n",
       "Name: 0, dtype: object"
      ]
     },
     "execution_count": 54,
     "metadata": {},
     "output_type": "execute_result"
    }
   ],
   "source": [
    "object_features = train_features.select_dtypes(include=[\"object\"]).columns.tolist()\n",
    "print(\"Names of object columns : \", object_features)\n",
    "\n",
    "for feature in object_features:\n",
    "    train_features[feature] = train_features[feature].str.lower()\n",
    "    \n",
    "train_features.iloc[0]"
   ]
  },
  {
   "cell_type": "code",
   "execution_count": 55,
   "id": "41d0c3cd",
   "metadata": {},
   "outputs": [
    {
     "data": {
      "text/html": [
       "<div>\n",
       "<style scoped>\n",
       "    .dataframe tbody tr th:only-of-type {\n",
       "        vertical-align: middle;\n",
       "    }\n",
       "\n",
       "    .dataframe tbody tr th {\n",
       "        vertical-align: top;\n",
       "    }\n",
       "\n",
       "    .dataframe thead th {\n",
       "        text-align: right;\n",
       "    }\n",
       "</style>\n",
       "<table border=\"1\" class=\"dataframe\">\n",
       "  <thead>\n",
       "    <tr style=\"text-align: right;\">\n",
       "      <th></th>\n",
       "      <th>id</th>\n",
       "      <th>amount_tsh</th>\n",
       "      <th>gps_height</th>\n",
       "      <th>longitude</th>\n",
       "      <th>latitude</th>\n",
       "      <th>num_private</th>\n",
       "      <th>region_code</th>\n",
       "      <th>district_code</th>\n",
       "      <th>population</th>\n",
       "      <th>years_elapsed</th>\n",
       "    </tr>\n",
       "  </thead>\n",
       "  <tbody>\n",
       "    <tr>\n",
       "      <th>count</th>\n",
       "      <td>14850.000000</td>\n",
       "      <td>14850.000000</td>\n",
       "      <td>14850.000000</td>\n",
       "      <td>14850.000000</td>\n",
       "      <td>14850.000000</td>\n",
       "      <td>14850.000000</td>\n",
       "      <td>14850.000000</td>\n",
       "      <td>14850.000000</td>\n",
       "      <td>14850.000000</td>\n",
       "      <td>14850.000000</td>\n",
       "    </tr>\n",
       "    <tr>\n",
       "      <th>mean</th>\n",
       "      <td>37161.972929</td>\n",
       "      <td>637.876141</td>\n",
       "      <td>1075.688182</td>\n",
       "      <td>35.099491</td>\n",
       "      <td>-5.770438</td>\n",
       "      <td>0.415084</td>\n",
       "      <td>15.139057</td>\n",
       "      <td>5.626397</td>\n",
       "      <td>352.647003</td>\n",
       "      <td>13.279798</td>\n",
       "    </tr>\n",
       "    <tr>\n",
       "      <th>std</th>\n",
       "      <td>21359.364833</td>\n",
       "      <td>2704.673103</td>\n",
       "      <td>513.408599</td>\n",
       "      <td>2.587550</td>\n",
       "      <td>2.811968</td>\n",
       "      <td>8.167910</td>\n",
       "      <td>17.191329</td>\n",
       "      <td>9.673842</td>\n",
       "      <td>450.967628</td>\n",
       "      <td>10.327659</td>\n",
       "    </tr>\n",
       "    <tr>\n",
       "      <th>min</th>\n",
       "      <td>10.000000</td>\n",
       "      <td>0.200000</td>\n",
       "      <td>-57.000000</td>\n",
       "      <td>29.612776</td>\n",
       "      <td>-11.564592</td>\n",
       "      <td>0.000000</td>\n",
       "      <td>1.000000</td>\n",
       "      <td>0.000000</td>\n",
       "      <td>2.000000</td>\n",
       "      <td>0.000000</td>\n",
       "    </tr>\n",
       "    <tr>\n",
       "      <th>25%</th>\n",
       "      <td>18727.000000</td>\n",
       "      <td>50.000000</td>\n",
       "      <td>823.000000</td>\n",
       "      <td>33.235554</td>\n",
       "      <td>-8.443970</td>\n",
       "      <td>0.000000</td>\n",
       "      <td>5.000000</td>\n",
       "      <td>2.000000</td>\n",
       "      <td>150.000000</td>\n",
       "      <td>7.000000</td>\n",
       "    </tr>\n",
       "    <tr>\n",
       "      <th>50%</th>\n",
       "      <td>37361.500000</td>\n",
       "      <td>250.000000</td>\n",
       "      <td>1191.000000</td>\n",
       "      <td>34.901215</td>\n",
       "      <td>-5.049750</td>\n",
       "      <td>0.000000</td>\n",
       "      <td>12.000000</td>\n",
       "      <td>3.000000</td>\n",
       "      <td>300.000000</td>\n",
       "      <td>10.000000</td>\n",
       "    </tr>\n",
       "    <tr>\n",
       "      <th>75%</th>\n",
       "      <td>55799.750000</td>\n",
       "      <td>500.000000</td>\n",
       "      <td>1340.000000</td>\n",
       "      <td>37.196594</td>\n",
       "      <td>-3.320976</td>\n",
       "      <td>0.000000</td>\n",
       "      <td>17.000000</td>\n",
       "      <td>5.000000</td>\n",
       "      <td>400.000000</td>\n",
       "      <td>16.000000</td>\n",
       "    </tr>\n",
       "    <tr>\n",
       "      <th>max</th>\n",
       "      <td>74249.000000</td>\n",
       "      <td>200000.000000</td>\n",
       "      <td>2777.000000</td>\n",
       "      <td>40.325016</td>\n",
       "      <td>-0.998752</td>\n",
       "      <td>669.000000</td>\n",
       "      <td>99.000000</td>\n",
       "      <td>80.000000</td>\n",
       "      <td>11469.000000</td>\n",
       "      <td>53.000000</td>\n",
       "    </tr>\n",
       "  </tbody>\n",
       "</table>\n",
       "</div>"
      ],
      "text/plain": [
       "                 id     amount_tsh    gps_height     longitude      latitude  \\\n",
       "count  14850.000000   14850.000000  14850.000000  14850.000000  14850.000000   \n",
       "mean   37161.972929     637.876141   1075.688182     35.099491     -5.770438   \n",
       "std    21359.364833    2704.673103    513.408599      2.587550      2.811968   \n",
       "min       10.000000       0.200000    -57.000000     29.612776    -11.564592   \n",
       "25%    18727.000000      50.000000    823.000000     33.235554     -8.443970   \n",
       "50%    37361.500000     250.000000   1191.000000     34.901215     -5.049750   \n",
       "75%    55799.750000     500.000000   1340.000000     37.196594     -3.320976   \n",
       "max    74249.000000  200000.000000   2777.000000     40.325016     -0.998752   \n",
       "\n",
       "        num_private   region_code  district_code    population  years_elapsed  \n",
       "count  14850.000000  14850.000000   14850.000000  14850.000000   14850.000000  \n",
       "mean       0.415084     15.139057       5.626397    352.647003      13.279798  \n",
       "std        8.167910     17.191329       9.673842    450.967628      10.327659  \n",
       "min        0.000000      1.000000       0.000000      2.000000       0.000000  \n",
       "25%        0.000000      5.000000       2.000000    150.000000       7.000000  \n",
       "50%        0.000000     12.000000       3.000000    300.000000      10.000000  \n",
       "75%        0.000000     17.000000       5.000000    400.000000      16.000000  \n",
       "max      669.000000     99.000000      80.000000  11469.000000      53.000000  "
      ]
     },
     "execution_count": 55,
     "metadata": {},
     "output_type": "execute_result"
    }
   ],
   "source": [
    "train_features.describe()"
   ]
  },
  {
   "cell_type": "code",
   "execution_count": 57,
   "id": "74ee4226",
   "metadata": {},
   "outputs": [],
   "source": [
    "now = datetime.now().strftime(\"%d-%m-%Y %H:%M:%S\")\n",
    "train_features.to_csv('../data/processed/train_features_clean_{}'.format(now, index=False))\n",
    "#train_features.to_csv('../data/processed/test_features_clean_{}'.format(now, index=False))"
   ]
  }
 ],
 "metadata": {
  "kernelspec": {
   "display_name": "Python 3",
   "language": "python",
   "name": "python3"
  },
  "language_info": {
   "codemirror_mode": {
    "name": "ipython",
    "version": 3
   },
   "file_extension": ".py",
   "mimetype": "text/x-python",
   "name": "python",
   "nbconvert_exporter": "python",
   "pygments_lexer": "ipython3",
   "version": "3.8.8"
  }
 },
 "nbformat": 4,
 "nbformat_minor": 5
}
