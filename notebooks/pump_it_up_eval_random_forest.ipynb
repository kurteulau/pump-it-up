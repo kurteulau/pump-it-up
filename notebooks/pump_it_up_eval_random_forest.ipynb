{
 "cells": [
  {
   "cell_type": "markdown",
   "id": "467a0fd8",
   "metadata": {},
   "source": [
    "# Imports"
   ]
  },
  {
   "cell_type": "code",
   "execution_count": 1,
   "id": "0e2f2ef6",
   "metadata": {},
   "outputs": [],
   "source": [
    "import pickle\n",
    "import pandas as pd\n",
    "from datetime import datetime\n",
    "\n",
    "from sklearn.preprocessing import MinMaxScaler\n",
    "from sklearn.ensemble import RandomForestClassifier "
   ]
  },
  {
   "cell_type": "code",
   "execution_count": 2,
   "id": "2a10f8a1",
   "metadata": {},
   "outputs": [],
   "source": [
    "TESTING_FEATURES = '../data/interim/testing_features_clean_11-08-2021 08:53:44'\n",
    "SEED = 42\n",
    "\n",
    "testing_features = pd.read_csv(TESTING_FEATURES)"
   ]
  },
  {
   "cell_type": "markdown",
   "id": "10bb3938",
   "metadata": {},
   "source": [
    "# Feature Reduction"
   ]
  },
  {
   "cell_type": "code",
   "execution_count": 3,
   "id": "d592d379",
   "metadata": {
    "scrolled": true
   },
   "outputs": [],
   "source": [
    "features_to_reduce = ['Unnamed: 0',\n",
    "                      'id', # different for every well\n",
    "                      'date_recorded', # data now redundant with years_elapsed\n",
    "                      'wpt_name', # large text feature - drop to improve testing time\n",
    "                      'num_private', # no description of feature, few values\n",
    "                      'subvillage', # large text feature - drop to improve testing time\n",
    "                      'region', # exactly same as region_code\n",
    "                      'ward', # large text feature - drop to improve testing time\n",
    "                      'public_meeting', # ?????\n",
    "                      'recorded_by', # same for every observation\n",
    "                      'scheme_name', # too many hard to impute values\n",
    "                      'scheme_management', #removed to create .01% increase in accuracy\n",
    "                      'permit', # removed w/o affecting accuracy?\n",
    "                      'construction_year', # data now redundant with years_elapsed\n",
    "                      'extraction_type_group', # same but less detailed info as extraction\n",
    "                      'extraction_type_class', # same but less detailed info as extraction\n",
    "                      'management_group', # same but less detailed info as management\n",
    "                      'payment_type', # same as payment\n",
    "                      'water_quality', # removed to see what will happen\n",
    "                      'quality_group', # same but less detailed info as water_quality\n",
    "                      'quantity_group', # exactly same as quantity\n",
    "                      'source_type', # same but less detailed info as source\n",
    "                      'source_class', # same but less detailed info as source\n",
    "                      'waterpoint_type_group'] # same but less detailed info as waterpoint_type\n",
    "\n",
    "reduced_testing_features = testing_features.drop(columns=features_to_reduce)"
   ]
  },
  {
   "cell_type": "code",
   "execution_count": 4,
   "id": "8194daff",
   "metadata": {
    "scrolled": true
   },
   "outputs": [
    {
     "name": "stdout",
     "output_type": "stream",
     "text": [
      "<class 'pandas.core.frame.DataFrame'>\n",
      "RangeIndex: 14850 entries, 0 to 14849\n",
      "Data columns (total 18 columns):\n",
      " #   Column           Non-Null Count  Dtype  \n",
      "---  ------           --------------  -----  \n",
      " 0   amount_tsh       14850 non-null  float64\n",
      " 1   funder           14850 non-null  object \n",
      " 2   gps_height       14850 non-null  float64\n",
      " 3   installer        14850 non-null  object \n",
      " 4   longitude        14850 non-null  float64\n",
      " 5   latitude         14850 non-null  float64\n",
      " 6   basin            14850 non-null  object \n",
      " 7   region_code      14850 non-null  int64  \n",
      " 8   district_code    14850 non-null  int64  \n",
      " 9   lga              14850 non-null  object \n",
      " 10  population       14850 non-null  float64\n",
      " 11  extraction_type  14850 non-null  object \n",
      " 12  management       14850 non-null  object \n",
      " 13  payment          14850 non-null  object \n",
      " 14  quantity         14850 non-null  object \n",
      " 15  source           14850 non-null  object \n",
      " 16  waterpoint_type  14850 non-null  object \n",
      " 17  years_elapsed    14850 non-null  int64  \n",
      "dtypes: float64(5), int64(3), object(10)\n",
      "memory usage: 2.0+ MB\n"
     ]
    }
   ],
   "source": [
    "reduced_testing_features.info()"
   ]
  },
  {
   "cell_type": "markdown",
   "id": "bd568385",
   "metadata": {},
   "source": [
    "# Feacture Processing"
   ]
  },
  {
   "cell_type": "markdown",
   "id": "e775104a",
   "metadata": {},
   "source": [
    "## Factorize categorical features"
   ]
  },
  {
   "cell_type": "code",
   "execution_count": 5,
   "id": "18597162",
   "metadata": {},
   "outputs": [
    {
     "name": "stdout",
     "output_type": "stream",
     "text": [
      "Names of object columns :  ['funder', 'installer', 'basin', 'lga', 'extraction_type', 'management', 'payment', 'quantity', 'source', 'waterpoint_type']\n"
     ]
    }
   ],
   "source": [
    "object_features = reduced_testing_features.select_dtypes(include=[\"object\"]).columns.tolist()\n",
    "print(\"Names of object columns : \", object_features)\n",
    "for feature in object_features:\n",
    "    reduced_testing_features[feature] = pd.factorize(reduced_testing_features[feature])[0]"
   ]
  },
  {
   "cell_type": "markdown",
   "id": "a7c4637c",
   "metadata": {},
   "source": [
    "## Scale numerical data"
   ]
  },
  {
   "cell_type": "code",
   "execution_count": 6,
   "id": "c385d638",
   "metadata": {},
   "outputs": [
    {
     "data": {
      "text/html": [
       "<div>\n",
       "<style scoped>\n",
       "    .dataframe tbody tr th:only-of-type {\n",
       "        vertical-align: middle;\n",
       "    }\n",
       "\n",
       "    .dataframe tbody tr th {\n",
       "        vertical-align: top;\n",
       "    }\n",
       "\n",
       "    .dataframe thead th {\n",
       "        text-align: right;\n",
       "    }\n",
       "</style>\n",
       "<table border=\"1\" class=\"dataframe\">\n",
       "  <thead>\n",
       "    <tr style=\"text-align: right;\">\n",
       "      <th></th>\n",
       "      <th>amount_tsh</th>\n",
       "      <th>gps_height</th>\n",
       "      <th>population</th>\n",
       "      <th>years_elapsed</th>\n",
       "    </tr>\n",
       "  </thead>\n",
       "  <tbody>\n",
       "    <tr>\n",
       "      <th>count</th>\n",
       "      <td>14850.000000</td>\n",
       "      <td>14850.000000</td>\n",
       "      <td>14850.000000</td>\n",
       "      <td>14850.000000</td>\n",
       "    </tr>\n",
       "    <tr>\n",
       "      <th>mean</th>\n",
       "      <td>0.063768</td>\n",
       "      <td>7.993565</td>\n",
       "      <td>0.611595</td>\n",
       "      <td>5.011245</td>\n",
       "    </tr>\n",
       "    <tr>\n",
       "      <th>std</th>\n",
       "      <td>0.270468</td>\n",
       "      <td>3.623208</td>\n",
       "      <td>0.786536</td>\n",
       "      <td>3.897230</td>\n",
       "    </tr>\n",
       "    <tr>\n",
       "      <th>min</th>\n",
       "      <td>0.000000</td>\n",
       "      <td>0.000000</td>\n",
       "      <td>0.000000</td>\n",
       "      <td>0.000000</td>\n",
       "    </tr>\n",
       "    <tr>\n",
       "      <th>25%</th>\n",
       "      <td>0.004980</td>\n",
       "      <td>6.210303</td>\n",
       "      <td>0.258132</td>\n",
       "      <td>2.641509</td>\n",
       "    </tr>\n",
       "    <tr>\n",
       "      <th>50%</th>\n",
       "      <td>0.024980</td>\n",
       "      <td>8.807339</td>\n",
       "      <td>0.519752</td>\n",
       "      <td>3.773585</td>\n",
       "    </tr>\n",
       "    <tr>\n",
       "      <th>75%</th>\n",
       "      <td>0.049980</td>\n",
       "      <td>9.858857</td>\n",
       "      <td>0.694166</td>\n",
       "      <td>6.037736</td>\n",
       "    </tr>\n",
       "    <tr>\n",
       "      <th>max</th>\n",
       "      <td>20.000000</td>\n",
       "      <td>20.000000</td>\n",
       "      <td>20.000000</td>\n",
       "      <td>20.000000</td>\n",
       "    </tr>\n",
       "  </tbody>\n",
       "</table>\n",
       "</div>"
      ],
      "text/plain": [
       "         amount_tsh    gps_height    population  years_elapsed\n",
       "count  14850.000000  14850.000000  14850.000000   14850.000000\n",
       "mean       0.063768      7.993565      0.611595       5.011245\n",
       "std        0.270468      3.623208      0.786536       3.897230\n",
       "min        0.000000      0.000000      0.000000       0.000000\n",
       "25%        0.004980      6.210303      0.258132       2.641509\n",
       "50%        0.024980      8.807339      0.519752       3.773585\n",
       "75%        0.049980      9.858857      0.694166       6.037736\n",
       "max       20.000000     20.000000     20.000000      20.000000"
      ]
     },
     "execution_count": 6,
     "metadata": {},
     "output_type": "execute_result"
    }
   ],
   "source": [
    "features=['amount_tsh', 'gps_height', 'population', 'years_elapsed']\n",
    "scaler = MinMaxScaler(feature_range=(0,20))\n",
    "reduced_testing_features[features] = scaler.fit_transform(reduced_testing_features[features])\n",
    "reduced_testing_features[features].describe()"
   ]
  },
  {
   "cell_type": "markdown",
   "id": "69e1d453",
   "metadata": {},
   "source": [
    "# Random Forest Classifier"
   ]
  },
  {
   "cell_type": "code",
   "execution_count": 7,
   "id": "28d16868",
   "metadata": {},
   "outputs": [],
   "source": [
    "X = reduced_testing_features\n",
    "\n",
    "filename = '../models/rfc_model 11-08-2021 08:52:40'\n",
    "rfc_model = pickle.load(open(filename, 'rb'))\n",
    "\n",
    "y_pred = rfc_model.predict(X)"
   ]
  },
  {
   "cell_type": "code",
   "execution_count": 8,
   "id": "6ad78f96",
   "metadata": {},
   "outputs": [],
   "source": [
    "submission = pd.DataFrame({'id': testing_features['id'], \n",
    "                           'status_group': pd.Series(y_pred)})\n",
    "submission.set_index('id', inplace=True)\n",
    "\n",
    "now = datetime.now().strftime(\"%d-%m-%Y %H:%M:%S\")\n",
    "submission.to_csv('../submissions/submission {}'.format(now))"
   ]
  }
 ],
 "metadata": {
  "kernelspec": {
   "display_name": "Python 3",
   "language": "python",
   "name": "python3"
  },
  "language_info": {
   "codemirror_mode": {
    "name": "ipython",
    "version": 3
   },
   "file_extension": ".py",
   "mimetype": "text/x-python",
   "name": "python",
   "nbconvert_exporter": "python",
   "pygments_lexer": "ipython3",
   "version": "3.8.8"
  }
 },
 "nbformat": 4,
 "nbformat_minor": 5
}
