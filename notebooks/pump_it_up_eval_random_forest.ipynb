{
 "cells": [
  {
   "cell_type": "markdown",
   "id": "467a0fd8",
   "metadata": {},
   "source": [
    "# Imports"
   ]
  },
  {
   "cell_type": "code",
   "execution_count": 1,
   "id": "0e2f2ef6",
   "metadata": {},
   "outputs": [],
   "source": [
    "import pickle\n",
    "import pandas as pd\n",
    "from datetime import datetime\n",
    "\n",
    "from sklearn.preprocessing import MinMaxScaler\n",
    "from sklearn.ensemble import RandomForestClassifier "
   ]
  },
  {
   "cell_type": "code",
   "execution_count": 5,
   "id": "2a10f8a1",
   "metadata": {},
   "outputs": [],
   "source": [
    "CLEAN_TEST_FEATURES = '../data/processed/test_features_clean_19-08-2021 11:20:07'\n",
    "MODEL = '../models/rfc_model 19-08-2021 08hr01min50sec copy'\n",
    "SEED = 42\n",
    "\n",
    "clean_test_features = pd.read_csv(CLEAN_TEST_FEATURES)"
   ]
  },
  {
   "cell_type": "markdown",
   "id": "10bb3938",
   "metadata": {},
   "source": [
    "# Feature Reduction"
   ]
  },
  {
   "cell_type": "code",
   "execution_count": 7,
   "id": "d592d379",
   "metadata": {
    "scrolled": true
   },
   "outputs": [],
   "source": [
    "features_to_reduce = [\n",
    "'Unnamed: 0', # artifact from importing from file\n",
    "'id', # different for every well\n",
    "'date_recorded', # redundant with years_elapsed synthetic feature\n",
    "'wpt_name', # drop results in no change in accuracy\n",
    "'num_private', # litte variation in feature values\n",
    "'subvillage', # ward and lga capture similar info with greater feature importance and lower training runtimes\n",
    "'region', # redundant, same as region_code\n",
    "'public_meeting', # drop results in no change in accuracy\n",
    "'recorded_by', # same for every observation\n",
    "'scheme_name', # drop results in no change in accuracy\n",
    "'scheme_management', # drop results in increase in accuracy\n",
    "'permit', # drop results in no change in accuracy\n",
    "'construction_year', # redundant with years_elapsed synthetic feature\n",
    "'extraction_type_group', # similar to extraction but with less variation\n",
    "'extraction_type_class', # similar to extraction but with less variation\n",
    "'management_group', # similar to management but with less variation\n",
    "'payment_type', # same as payment\n",
    "'water_quality', # drop results in no change in accuracy\n",
    "'quality_group', # drop results in no change in accuracy\n",
    "'quantity_group', # same as quantity\n",
    "'source_type', # similar to source but with less variation\n",
    "'source_class', # similar to source but with less variation\n",
    "'waterpoint_type_group' # similar to waterpoint_type but with less variation\n",
    "]\n",
    "\n",
    "reduced_clean_test_features = clean_test_features.drop(columns=features_to_reduce)"
   ]
  },
  {
   "cell_type": "code",
   "execution_count": 10,
   "id": "8194daff",
   "metadata": {
    "scrolled": true
   },
   "outputs": [
    {
     "name": "stdout",
     "output_type": "stream",
     "text": [
      "<class 'pandas.core.frame.DataFrame'>\n",
      "RangeIndex: 14850 entries, 0 to 14849\n",
      "Data columns (total 19 columns):\n",
      " #   Column           Non-Null Count  Dtype  \n",
      "---  ------           --------------  -----  \n",
      " 0   amount_tsh       14850 non-null  float64\n",
      " 1   funder           14850 non-null  object \n",
      " 2   gps_height       14850 non-null  float64\n",
      " 3   installer        14850 non-null  object \n",
      " 4   longitude        14850 non-null  float64\n",
      " 5   latitude         14850 non-null  float64\n",
      " 6   basin            14850 non-null  object \n",
      " 7   region_code      14850 non-null  int64  \n",
      " 8   district_code    14850 non-null  int64  \n",
      " 9   lga              14850 non-null  object \n",
      " 10  ward             14850 non-null  object \n",
      " 11  population       14850 non-null  int64  \n",
      " 12  extraction_type  14850 non-null  object \n",
      " 13  management       14850 non-null  object \n",
      " 14  payment          14850 non-null  object \n",
      " 15  quantity         14850 non-null  object \n",
      " 16  source           14850 non-null  object \n",
      " 17  waterpoint_type  14850 non-null  object \n",
      " 18  years_elapsed    14850 non-null  int64  \n",
      "dtypes: float64(4), int64(4), object(11)\n",
      "memory usage: 2.2+ MB\n"
     ]
    }
   ],
   "source": [
    "reduced_clean_test_features.info()"
   ]
  },
  {
   "cell_type": "markdown",
   "id": "bd568385",
   "metadata": {},
   "source": [
    "# Feacture Processing"
   ]
  },
  {
   "cell_type": "markdown",
   "id": "e775104a",
   "metadata": {},
   "source": [
    "## Factorize categorical features"
   ]
  },
  {
   "cell_type": "code",
   "execution_count": 12,
   "id": "18597162",
   "metadata": {},
   "outputs": [
    {
     "name": "stdout",
     "output_type": "stream",
     "text": [
      "Names of object columns :  ['funder', 'installer', 'basin', 'lga', 'ward', 'extraction_type', 'management', 'payment', 'quantity', 'source', 'waterpoint_type']\n"
     ]
    }
   ],
   "source": [
    "object_features = reduced_clean_test_features.select_dtypes(include=[\"object\"]).columns.tolist()\n",
    "print(\"Names of object columns : \", object_features)\n",
    "for feature in object_features:\n",
    "    reduced_clean_test_features[feature] = pd.factorize(reduced_clean_test_features[feature])[0]"
   ]
  },
  {
   "cell_type": "markdown",
   "id": "a7c4637c",
   "metadata": {},
   "source": [
    "## Scale numerical data"
   ]
  },
  {
   "cell_type": "code",
   "execution_count": 14,
   "id": "c385d638",
   "metadata": {},
   "outputs": [
    {
     "data": {
      "text/html": [
       "<div>\n",
       "<style scoped>\n",
       "    .dataframe tbody tr th:only-of-type {\n",
       "        vertical-align: middle;\n",
       "    }\n",
       "\n",
       "    .dataframe tbody tr th {\n",
       "        vertical-align: top;\n",
       "    }\n",
       "\n",
       "    .dataframe thead th {\n",
       "        text-align: right;\n",
       "    }\n",
       "</style>\n",
       "<table border=\"1\" class=\"dataframe\">\n",
       "  <thead>\n",
       "    <tr style=\"text-align: right;\">\n",
       "      <th></th>\n",
       "      <th>amount_tsh</th>\n",
       "      <th>gps_height</th>\n",
       "      <th>population</th>\n",
       "      <th>years_elapsed</th>\n",
       "    </tr>\n",
       "  </thead>\n",
       "  <tbody>\n",
       "    <tr>\n",
       "      <th>count</th>\n",
       "      <td>14850.000000</td>\n",
       "      <td>14850.000000</td>\n",
       "      <td>14850.000000</td>\n",
       "      <td>14850.000000</td>\n",
       "    </tr>\n",
       "    <tr>\n",
       "      <th>mean</th>\n",
       "      <td>0.063768</td>\n",
       "      <td>7.993565</td>\n",
       "      <td>0.611576</td>\n",
       "      <td>5.011245</td>\n",
       "    </tr>\n",
       "    <tr>\n",
       "      <th>std</th>\n",
       "      <td>0.270468</td>\n",
       "      <td>3.623208</td>\n",
       "      <td>0.786549</td>\n",
       "      <td>3.897230</td>\n",
       "    </tr>\n",
       "    <tr>\n",
       "      <th>min</th>\n",
       "      <td>0.000000</td>\n",
       "      <td>0.000000</td>\n",
       "      <td>0.000000</td>\n",
       "      <td>0.000000</td>\n",
       "    </tr>\n",
       "    <tr>\n",
       "      <th>25%</th>\n",
       "      <td>0.004980</td>\n",
       "      <td>6.210303</td>\n",
       "      <td>0.258132</td>\n",
       "      <td>2.641509</td>\n",
       "    </tr>\n",
       "    <tr>\n",
       "      <th>50%</th>\n",
       "      <td>0.024980</td>\n",
       "      <td>8.807339</td>\n",
       "      <td>0.519752</td>\n",
       "      <td>3.773585</td>\n",
       "    </tr>\n",
       "    <tr>\n",
       "      <th>75%</th>\n",
       "      <td>0.049980</td>\n",
       "      <td>9.858857</td>\n",
       "      <td>0.694166</td>\n",
       "      <td>6.037736</td>\n",
       "    </tr>\n",
       "    <tr>\n",
       "      <th>max</th>\n",
       "      <td>20.000000</td>\n",
       "      <td>20.000000</td>\n",
       "      <td>20.000000</td>\n",
       "      <td>20.000000</td>\n",
       "    </tr>\n",
       "  </tbody>\n",
       "</table>\n",
       "</div>"
      ],
      "text/plain": [
       "         amount_tsh    gps_height    population  years_elapsed\n",
       "count  14850.000000  14850.000000  14850.000000   14850.000000\n",
       "mean       0.063768      7.993565      0.611576       5.011245\n",
       "std        0.270468      3.623208      0.786549       3.897230\n",
       "min        0.000000      0.000000      0.000000       0.000000\n",
       "25%        0.004980      6.210303      0.258132       2.641509\n",
       "50%        0.024980      8.807339      0.519752       3.773585\n",
       "75%        0.049980      9.858857      0.694166       6.037736\n",
       "max       20.000000     20.000000     20.000000      20.000000"
      ]
     },
     "execution_count": 14,
     "metadata": {},
     "output_type": "execute_result"
    }
   ],
   "source": [
    "features=['amount_tsh', 'gps_height', 'population', 'years_elapsed']\n",
    "scaler = MinMaxScaler(feature_range=(0,20))\n",
    "reduced_clean_test_features[features] = scaler.fit_transform(reduced_clean_test_features[features])\n",
    "reduced_clean_test_features[features].describe()"
   ]
  },
  {
   "cell_type": "markdown",
   "id": "69e1d453",
   "metadata": {},
   "source": [
    "# Random Forest Classifier"
   ]
  },
  {
   "cell_type": "code",
   "execution_count": 15,
   "id": "28d16868",
   "metadata": {},
   "outputs": [],
   "source": [
    "X = reduced_clean_test_features\n",
    "\n",
    "filename = MODEL\n",
    "rfc_model = pickle.load(open(filename, 'rb'))\n",
    "\n",
    "y_pred = rfc_model.predict(X)"
   ]
  },
  {
   "cell_type": "code",
   "execution_count": 16,
   "id": "6ad78f96",
   "metadata": {},
   "outputs": [],
   "source": [
    "submission = pd.DataFrame({'id': testing_features['id'], \n",
    "                           'status_group': pd.Series(y_pred)})\n",
    "submission.set_index('id', inplace=True)\n",
    "\n",
    "now = datetime.now().strftime(\"%d-%m-%Y %Hhr%Mmin%Ssec\")\n",
    "submission.to_csv('../submissions/submission {}'.format(now))"
   ]
  }
 ],
 "metadata": {
  "kernelspec": {
   "display_name": "Python 3",
   "language": "python",
   "name": "python3"
  },
  "language_info": {
   "codemirror_mode": {
    "name": "ipython",
    "version": 3
   },
   "file_extension": ".py",
   "mimetype": "text/x-python",
   "name": "python",
   "nbconvert_exporter": "python",
   "pygments_lexer": "ipython3",
   "version": "3.8.8"
  }
 },
 "nbformat": 4,
 "nbformat_minor": 5
}
