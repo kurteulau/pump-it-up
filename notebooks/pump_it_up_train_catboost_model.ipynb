{
 "cells": [
  {
   "cell_type": "markdown",
   "id": "67a367d9",
   "metadata": {},
   "source": [
    "# Reduce Features and Train Model"
   ]
  },
  {
   "cell_type": "markdown",
   "id": "467a0fd8",
   "metadata": {},
   "source": [
    "# Imports"
   ]
  },
  {
   "cell_type": "code",
   "execution_count": 53,
   "id": "0e2f2ef6",
   "metadata": {},
   "outputs": [],
   "source": [
    "import pandas as pd\n",
    "import numpy as np\n",
    "from datetime import datetime\n",
    "from catboost import CatBoostClassifier, Pool "
   ]
  },
  {
   "cell_type": "code",
   "execution_count": 54,
   "id": "2a10f8a1",
   "metadata": {},
   "outputs": [],
   "source": [
    "CLEAN_TRAIN_FEATURES = '../data/processed/train_features_clean_18-08-2021 10:42:11'\n",
    "TRAIN_LABELS = '../data/external/pump-it-up-training-labels.csv'\n",
    "SEED = 42\n",
    "\n",
    "clean_train_features = pd.read_csv(CLEAN_TRAIN_FEATURES)\n",
    "train_labels = pd.read_csv(TRAIN_LABELS)"
   ]
  },
  {
   "cell_type": "markdown",
   "id": "10bb3938",
   "metadata": {},
   "source": [
    "# Feature Reduction"
   ]
  },
  {
   "cell_type": "code",
   "execution_count": 55,
   "id": "1bbb6dd9",
   "metadata": {},
   "outputs": [],
   "source": [
    "# trying dropping amount_tsh, region code, district_code, basin\n",
    "\n",
    "features_to_reduce = [\n",
    "'Unnamed: 0', # artifact from importing from file\n",
    "'id', # different for every well\n",
    "'date_recorded', # redundant with years_elapsed synthetic feature\n",
    "'wpt_name', # drop results in no change in accuracy\n",
    "'num_private', # litte variation in feature values\n",
    "'subvillage', # ward and lga capture similar info with greater feature importance and lower training runtimes\n",
    "'region', # redundant, same as region_code\n",
    "'public_meeting', # drop results in no change in accuracy\n",
    "'recorded_by', # same for every observation\n",
    "'scheme_name', # drop results in no change in accuracy\n",
    "'scheme_management', # drop results in increase in accuracy\n",
    "'permit', # drop results in no change in accuracy\n",
    "'construction_year', # redundant with years_elapsed synthetic feature\n",
    "'extraction_type_group', # similar to extraction but with less variation\n",
    "'extraction_type_class', # similar to extraction but with less variation\n",
    "'management_group', # similar to management but with less variation\n",
    "'payment_type', # same as payment\n",
    "'water_quality', # drop results in no change in accuracy\n",
    "'quality_group', # drop results in no change in accuracy\n",
    "'quantity_group', # same as quantity\n",
    "'source_type', # similar to source but with less variation\n",
    "'source_class', # similar to source but with less variation\n",
    "'waterpoint_type_group' # similar to waterpoint_type but with less variation\n",
    "]\n",
    "reduced_clean_train_features = clean_train_features.drop(columns=features_to_reduce)"
   ]
  },
  {
   "cell_type": "code",
   "execution_count": 56,
   "id": "8194daff",
   "metadata": {},
   "outputs": [
    {
     "name": "stdout",
     "output_type": "stream",
     "text": [
      "<class 'pandas.core.frame.DataFrame'>\n",
      "RangeIndex: 59400 entries, 0 to 59399\n",
      "Data columns (total 15 columns):\n",
      " #   Column           Non-Null Count  Dtype  \n",
      "---  ------           --------------  -----  \n",
      " 0   funder           59400 non-null  object \n",
      " 1   gps_height       59400 non-null  float64\n",
      " 2   installer        59400 non-null  object \n",
      " 3   longitude        59400 non-null  float64\n",
      " 4   latitude         59400 non-null  float64\n",
      " 5   lga              59400 non-null  object \n",
      " 6   ward             59400 non-null  object \n",
      " 7   population       59400 non-null  int64  \n",
      " 8   extraction_type  59400 non-null  object \n",
      " 9   management       59400 non-null  object \n",
      " 10  payment          59400 non-null  object \n",
      " 11  quantity         59400 non-null  object \n",
      " 12  source           59400 non-null  object \n",
      " 13  waterpoint_type  59400 non-null  object \n",
      " 14  years_elapsed    59400 non-null  int64  \n",
      "dtypes: float64(3), int64(2), object(10)\n",
      "memory usage: 6.8+ MB\n"
     ]
    }
   ],
   "source": [
    "reduced_clean_train_features.info()"
   ]
  },
  {
   "cell_type": "code",
   "execution_count": 57,
   "id": "ab177f30",
   "metadata": {},
   "outputs": [],
   "source": [
    "cat_features = ['basin', \n",
    "                'extraction_type', \n",
    "                'management', \n",
    "                'payment', \n",
    "                'quantity', \n",
    "                'source', \n",
    "                'waterpoint_type']\n",
    "\n",
    "text_features= ['funder', \n",
    "                'installer',\n",
    "                'lga',\n",
    "                'ward']\n",
    "\n",
    "train_data = reduced_clean_train_features\n",
    "\n",
    "train_labels = train_labels['status_group']\n",
    "\n",
    "test_data = catboost_pool = Pool(train_data, \n",
    "                                 label=train_labels,\n",
    "                                 cat_features=cat_features,\n",
    "                                 text_features=text_features)"
   ]
  },
  {
   "cell_type": "code",
   "execution_count": 58,
   "id": "c0ec8629",
   "metadata": {},
   "outputs": [],
   "source": [
    "\"\"\"optional CatBoostClassifier params: cat_features=cat_features,\n",
    "text_features=text_features, max_ctr_complexity=5, iterations=10000,\n",
    "eval_metric='AUC', od_type='Iter', od_wait=500\n",
    "\"\"\"\n",
    "\n",
    "model = CatBoostClassifier(cat_features=cat_features,\n",
    "                           text_features=text_features)\n",
    "\n",
    "model.fit(train_data, train_labels, verbose=False)\n",
    "\n",
    "preds_class = model.predict(test_data)"
   ]
  },
  {
   "cell_type": "code",
   "execution_count": 59,
   "id": "c18fda38",
   "metadata": {},
   "outputs": [
    {
     "name": "stdout",
     "output_type": "stream",
     "text": [
      "Accuracy: 0.793956228956229\n"
     ]
    }
   ],
   "source": [
    "labels_array = train_labels.values\n",
    "preds_list = [label[0] for label in preds_class]\n",
    "preds_array = np.array(preds_list)\n",
    "print('Accuracy:', np.sum(preds_array == labels_array)/labels_array.size)"
   ]
  },
  {
   "cell_type": "code",
   "execution_count": 60,
   "id": "d27fa912",
   "metadata": {},
   "outputs": [
    {
     "name": "stdout",
     "output_type": "stream",
     "text": [
      "funder 4.178941993308041\n",
      "gps_height 2.574655285081021\n",
      "installer 3.7440952844433952\n",
      "longitude 5.40341291371409\n",
      "latitude 4.13736958378615\n",
      "lga 13.454370759673766\n",
      "ward 5.777419001351448\n",
      "population 1.7779578592011192\n",
      "extraction_type 7.940770441689969\n",
      "management 1.9162752222266775\n",
      "payment 6.637703344831527\n",
      "quantity 21.2581265762441\n",
      "source 8.052754745448341\n",
      "waterpoint_type 7.498998104666096\n",
      "years_elapsed 5.647148884334419\n"
     ]
    }
   ],
   "source": [
    "feature_importance = model.get_feature_importance().tolist()\n",
    "feature_names = reduced_clean_train_features.columns.tolist()\n",
    "\n",
    "for i in range(len(feature_names)):\n",
    "    print(feature_names[i], feature_importance[i])"
   ]
  },
  {
   "cell_type": "code",
   "execution_count": 34,
   "id": "8c01351d",
   "metadata": {},
   "outputs": [],
   "source": [
    "now = datetime.now().strftime(\"%d-%m-%Y %H:%M:%S\")\n",
    "model.save_model('../models/catboost_model {}'.format(now))"
   ]
  }
 ],
 "metadata": {
  "kernelspec": {
   "display_name": "Python 3",
   "language": "python",
   "name": "python3"
  },
  "language_info": {
   "codemirror_mode": {
    "name": "ipython",
    "version": 3
   },
   "file_extension": ".py",
   "mimetype": "text/x-python",
   "name": "python",
   "nbconvert_exporter": "python",
   "pygments_lexer": "ipython3",
   "version": "3.8.8"
  }
 },
 "nbformat": 4,
 "nbformat_minor": 5
}
