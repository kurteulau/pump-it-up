{
 "cells": [
  {
   "cell_type": "markdown",
   "id": "467a0fd8",
   "metadata": {},
   "source": [
    "# Imports"
   ]
  },
  {
   "cell_type": "code",
   "execution_count": 1,
   "id": "0e2f2ef6",
   "metadata": {},
   "outputs": [],
   "source": [
    "import pandas as pd\n",
    "import numpy as np\n",
    "from datetime import datetime\n",
    "from catboost import CatBoostClassifier, Pool "
   ]
  },
  {
   "cell_type": "code",
   "execution_count": 2,
   "id": "2a10f8a1",
   "metadata": {},
   "outputs": [],
   "source": [
    "CLEAN_TRAIN_FEATURES = '../data/processed/train_features_clean_18-08-2021 10:42:11'\n",
    "TRAIN_LABELS = '../data/external/pump-it-up-training-labels.csv'\n",
    "SEED = 42\n",
    "\n",
    "clean_train_features = pd.read_csv(CLEAN_TRAIN_FEATURES)\n",
    "train_labels = pd.read_csv(TRAIN_LABELS)"
   ]
  },
  {
   "cell_type": "markdown",
   "id": "10bb3938",
   "metadata": {},
   "source": [
    "# Feature Reduction"
   ]
  },
  {
   "cell_type": "code",
   "execution_count": 3,
   "id": "1bbb6dd9",
   "metadata": {},
   "outputs": [],
   "source": [
    "features_to_reduce = [\n",
    "'Unnamed: 0', # artifact from importing from file\n",
    "'id', # different for every well\n",
    "'date_recorded', # redundant with years_elapsed synthetic feature\n",
    "'wpt_name', # drop results in no change in accuracy\n",
    "'num_private', # litte variation in feature values\n",
    "'subvillage', # ward and lga capture similar info with greater feature importance and lower training runtimes\n",
    "'region', # redundant, same as region_code\n",
    "'public_meeting', # drop results in no change in accuracy\n",
    "'recorded_by', # same for every observation\n",
    "'scheme_name', # drop results in no change in accuracy\n",
    "'scheme_management', # drop results in increase in accuracy\n",
    "'permit', # drop results in no change in accuracy\n",
    "'construction_year', # redundant with years_elapsed synthetic feature\n",
    "'extraction_type_group', # similar to extraction but with less variation\n",
    "'extraction_type_class', # similar to extraction but with less variation\n",
    "'management_group', # similar to management but with less variation\n",
    "'payment_type', # same as payment\n",
    "'water_quality', # drop results in no change in accuracy\n",
    "'quality_group', # drop results in no change in accuracy\n",
    "'quantity_group', # same as quantity\n",
    "'source_type', # similar to source but with less variation\n",
    "'source_class', # similar to source but with less variation\n",
    "'waterpoint_type_group' # similar to waterpoint_type but with less variation\n",
    "]\n",
    "reduced_clean_train_features = clean_train_features.drop(columns=features_to_reduce)"
   ]
  },
  {
   "cell_type": "code",
   "execution_count": 4,
   "id": "8194daff",
   "metadata": {},
   "outputs": [
    {
     "name": "stdout",
     "output_type": "stream",
     "text": [
      "<class 'pandas.core.frame.DataFrame'>\n",
      "RangeIndex: 59400 entries, 0 to 59399\n",
      "Data columns (total 19 columns):\n",
      " #   Column           Non-Null Count  Dtype  \n",
      "---  ------           --------------  -----  \n",
      " 0   amount_tsh       59400 non-null  float64\n",
      " 1   funder           59400 non-null  object \n",
      " 2   gps_height       59400 non-null  float64\n",
      " 3   installer        59400 non-null  object \n",
      " 4   longitude        59400 non-null  float64\n",
      " 5   latitude         59400 non-null  float64\n",
      " 6   basin            59400 non-null  object \n",
      " 7   region_code      59400 non-null  int64  \n",
      " 8   district_code    59400 non-null  int64  \n",
      " 9   lga              59400 non-null  object \n",
      " 10  ward             59400 non-null  object \n",
      " 11  population       59400 non-null  int64  \n",
      " 12  extraction_type  59400 non-null  object \n",
      " 13  management       59400 non-null  object \n",
      " 14  payment          59400 non-null  object \n",
      " 15  quantity         59400 non-null  object \n",
      " 16  source           59400 non-null  object \n",
      " 17  waterpoint_type  59400 non-null  object \n",
      " 18  years_elapsed    59400 non-null  int64  \n",
      "dtypes: float64(4), int64(4), object(11)\n",
      "memory usage: 8.6+ MB\n"
     ]
    }
   ],
   "source": [
    "reduced_clean_train_features.info()"
   ]
  },
  {
   "cell_type": "code",
   "execution_count": 5,
   "id": "ab177f30",
   "metadata": {},
   "outputs": [],
   "source": [
    "cat_features = ['basin', \n",
    "                'extraction_type', \n",
    "                'management', \n",
    "                'payment', \n",
    "                'quantity', \n",
    "                'source', \n",
    "                'waterpoint_type']\n",
    "\n",
    "text_features= ['funder', \n",
    "                'installer',\n",
    "                'lga',\n",
    "                'ward']\n",
    "\n",
    "train_data = reduced_clean_train_features\n",
    "\n",
    "train_labels = train_labels['status_group']\n",
    "\n",
    "test_data = catboost_pool = Pool(train_data, \n",
    "                                 label=train_labels,\n",
    "                                 cat_features=cat_features,\n",
    "                                 text_features=text_features)"
   ]
  },
  {
   "cell_type": "code",
   "execution_count": 6,
   "id": "c0ec8629",
   "metadata": {},
   "outputs": [],
   "source": [
    "\"\"\"optional CatBoostClassifier params: cat_features=cat_features,\n",
    "text_features=text_features, max_ctr_complexity=5, iterations=10000,\n",
    "eval_metric='AUC', od_type='Iter', od_wait=500\n",
    "\"\"\"\n",
    "\n",
    "model = CatBoostClassifier(cat_features=cat_features,\n",
    "                           text_features=text_features)\n",
    "\n",
    "model.fit(train_data, train_labels, verbose=False)\n",
    "\n",
    "preds_class = model.predict(test_data)"
   ]
  },
  {
   "cell_type": "code",
   "execution_count": 7,
   "id": "c18fda38",
   "metadata": {},
   "outputs": [
    {
     "name": "stdout",
     "output_type": "stream",
     "text": [
      "Accuracy: 0.7947811447811448\n"
     ]
    }
   ],
   "source": [
    "labels_array = train_labels.values\n",
    "preds_list = [label[0] for label in preds_class]\n",
    "preds_array = np.array(preds_list)\n",
    "print('Accuracy:', np.sum(preds_array == labels_array)/labels_array.size)"
   ]
  },
  {
   "cell_type": "code",
   "execution_count": 8,
   "id": "d27fa912",
   "metadata": {},
   "outputs": [
    {
     "name": "stdout",
     "output_type": "stream",
     "text": [
      "amount_tsh 1.658094646188841\n",
      "funder 4.304082939804251\n",
      "gps_height 2.3528139062040254\n",
      "installer 3.1189273609730948\n",
      "longitude 3.722180736461092\n",
      "latitude 2.7944659058329266\n",
      "basin 1.9701171225772716\n",
      "region_code 1.661950655880465\n",
      "district_code 1.9844223188213845\n",
      "lga 10.719882430422798\n",
      "ward 5.421317213450845\n",
      "population 2.1337352228876103\n",
      "extraction_type 7.7369354475768\n",
      "management 1.9235691315887076\n",
      "payment 6.002150061554366\n",
      "quantity 21.89618763134418\n",
      "source 8.035001594885415\n",
      "waterpoint_type 7.4981305738832065\n",
      "years_elapsed 5.066035099662801\n"
     ]
    }
   ],
   "source": [
    "feature_importance = model.get_feature_importance().tolist()\n",
    "feature_names = reduced_clean_train_features.columns.tolist()\n",
    "\n",
    "for i in range(len(feature_names)):\n",
    "    print(feature_names[i], feature_importance[i])"
   ]
  },
  {
   "cell_type": "code",
   "execution_count": 9,
   "id": "8c01351d",
   "metadata": {},
   "outputs": [],
   "source": [
    "now = datetime.now().strftime(\"%d-%m-%Y %Hhr%Mmin%Ssec\")\n",
    "model.save_model('../models/catboost_model {}'.format(now))"
   ]
  }
 ],
 "metadata": {
  "kernelspec": {
   "display_name": "Python 3",
   "language": "python",
   "name": "python3"
  },
  "language_info": {
   "codemirror_mode": {
    "name": "ipython",
    "version": 3
   },
   "file_extension": ".py",
   "mimetype": "text/x-python",
   "name": "python",
   "nbconvert_exporter": "python",
   "pygments_lexer": "ipython3",
   "version": "3.8.8"
  }
 },
 "nbformat": 4,
 "nbformat_minor": 5
}
