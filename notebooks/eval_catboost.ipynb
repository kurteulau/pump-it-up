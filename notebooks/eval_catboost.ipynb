{
 "cells": [
  {
   "cell_type": "markdown",
   "id": "467a0fd8",
   "metadata": {},
   "source": [
    "# Imports"
   ]
  },
  {
   "cell_type": "code",
   "execution_count": 1,
   "id": "0e2f2ef6",
   "metadata": {},
   "outputs": [],
   "source": [
    "import pandas as pd\n",
    "import numpy as np\n",
    "from datetime import datetime\n",
    "\n",
    "from catboost import CatBoostClassifier, Pool "
   ]
  },
  {
   "cell_type": "code",
   "execution_count": 4,
   "id": "2a10f8a1",
   "metadata": {},
   "outputs": [],
   "source": [
    "CLEAN_TEST_FEATURES = '../data/processed/test_features_clean_19-08-2021 11:20:07'\n",
    "MODEL = '../models/catboost_model 19-08-2021 11hr57min52sec'\n",
    "SEED = 42\n",
    "\n",
    "clean_test_features = pd.read_csv(CLEAN_TEST_FEATURES)"
   ]
  },
  {
   "cell_type": "markdown",
   "id": "10bb3938",
   "metadata": {},
   "source": [
    "# Feature Reduction"
   ]
  },
  {
   "cell_type": "code",
   "execution_count": 5,
   "id": "d592d379",
   "metadata": {
    "scrolled": true
   },
   "outputs": [],
   "source": [
    "features_to_reduce = [\n",
    "'Unnamed: 0', # artifact from importing from file\n",
    "'id', # different for every well\n",
    "'date_recorded', # redundant with years_elapsed synthetic feature\n",
    "'wpt_name', # drop results in no change in accuracy\n",
    "'num_private', # litte variation in feature values\n",
    "'subvillage', # ward and lga capture similar info with greater feature importance and lower training runtimes\n",
    "'region', # redundant, same as region_code\n",
    "'public_meeting', # drop results in no change in accuracy\n",
    "'recorded_by', # same for every observation\n",
    "'scheme_name', # drop results in no change in accuracy\n",
    "'scheme_management', # drop results in increase in accuracy\n",
    "'permit', # drop results in no change in accuracy\n",
    "'construction_year', # redundant with years_elapsed synthetic feature\n",
    "'extraction_type_group', # similar to extraction but with less variation\n",
    "'extraction_type_class', # similar to extraction but with less variation\n",
    "'management_group', # similar to management but with less variation\n",
    "'payment_type', # same as payment\n",
    "'water_quality', # drop results in no change in accuracy\n",
    "'quality_group', # drop results in no change in accuracy\n",
    "'quantity_group', # same as quantity\n",
    "'source_type', # similar to source but with less variation\n",
    "'source_class', # similar to source but with less variation\n",
    "'waterpoint_type_group' # similar to waterpoint_type but with less variation\n",
    "]\n",
    "\n",
    "reduced_clean_test_features = clean_test_features.drop(columns=features_to_reduce)"
   ]
  },
  {
   "cell_type": "code",
   "execution_count": 8,
   "id": "8194daff",
   "metadata": {},
   "outputs": [
    {
     "name": "stdout",
     "output_type": "stream",
     "text": [
      "<class 'pandas.core.frame.DataFrame'>\n",
      "RangeIndex: 14850 entries, 0 to 14849\n",
      "Data columns (total 19 columns):\n",
      " #   Column           Non-Null Count  Dtype  \n",
      "---  ------           --------------  -----  \n",
      " 0   amount_tsh       14850 non-null  float64\n",
      " 1   funder           14850 non-null  object \n",
      " 2   gps_height       14850 non-null  float64\n",
      " 3   installer        14850 non-null  object \n",
      " 4   longitude        14850 non-null  float64\n",
      " 5   latitude         14850 non-null  float64\n",
      " 6   basin            14850 non-null  object \n",
      " 7   region_code      14850 non-null  int64  \n",
      " 8   district_code    14850 non-null  int64  \n",
      " 9   lga              14850 non-null  object \n",
      " 10  ward             14850 non-null  object \n",
      " 11  population       14850 non-null  int64  \n",
      " 12  extraction_type  14850 non-null  object \n",
      " 13  management       14850 non-null  object \n",
      " 14  payment          14850 non-null  object \n",
      " 15  quantity         14850 non-null  object \n",
      " 16  source           14850 non-null  object \n",
      " 17  waterpoint_type  14850 non-null  object \n",
      " 18  years_elapsed    14850 non-null  int64  \n",
      "dtypes: float64(4), int64(4), object(11)\n",
      "memory usage: 2.2+ MB\n"
     ]
    }
   ],
   "source": [
    "reduced_clean_test_features.info()"
   ]
  },
  {
   "cell_type": "code",
   "execution_count": 10,
   "id": "38d91db0",
   "metadata": {},
   "outputs": [
    {
     "data": {
      "text/plain": [
       "amount_tsh                   250.0\n",
       "funder                       tasaf\n",
       "gps_height                  1191.0\n",
       "installer           local contract\n",
       "longitude                31.851166\n",
       "latitude                 -1.046189\n",
       "basin                lake victoria\n",
       "region_code                     18\n",
       "district_code                    2\n",
       "lga                   bukoba rural\n",
       "ward                        rubafu\n",
       "population                     300\n",
       "extraction_type            gravity\n",
       "management                     vwc\n",
       "payment                  never pay\n",
       "quantity                    enough\n",
       "source                      spring\n",
       "waterpoint_type    improved spring\n",
       "years_elapsed                   10\n",
       "Name: 1235, dtype: object"
      ]
     },
     "execution_count": 10,
     "metadata": {},
     "output_type": "execute_result"
    }
   ],
   "source": [
    "reduced_clean_test_features.iloc[1235]"
   ]
  },
  {
   "cell_type": "markdown",
   "id": "f9db8702",
   "metadata": {},
   "source": [
    "# CatBoost"
   ]
  },
  {
   "cell_type": "code",
   "execution_count": 11,
   "id": "4e1ef25b",
   "metadata": {},
   "outputs": [],
   "source": [
    "clf = CatBoostClassifier()\n",
    "model_from_file = clf.load_model(MODEL)"
   ]
  },
  {
   "cell_type": "code",
   "execution_count": 12,
   "id": "17fac5db",
   "metadata": {},
   "outputs": [
    {
     "data": {
      "text/plain": [
       "array(['functional', 'functional', 'functional', ..., 'functional',\n",
       "       'functional', 'non functional'], dtype='<U23')"
      ]
     },
     "execution_count": 12,
     "metadata": {},
     "output_type": "execute_result"
    }
   ],
   "source": [
    "preds_class = model_from_file.predict(reduced_clean_test_features)\n",
    "preds_list = [label[0] for label in preds_class]\n",
    "preds_array = np.array(preds_list)\n",
    "preds_array"
   ]
  },
  {
   "cell_type": "code",
   "execution_count": 15,
   "id": "2b79cb47",
   "metadata": {},
   "outputs": [],
   "source": [
    "submission = pd.DataFrame({'id': clean_test_features['id'], \n",
    "                           'status_group': pd.Series(preds_array)})\n",
    "submission.set_index('id', inplace=True)"
   ]
  },
  {
   "cell_type": "code",
   "execution_count": 16,
   "id": "34bfad04",
   "metadata": {},
   "outputs": [],
   "source": [
    "now = datetime.now().strftime(\"%d-%m-%Y %Hhr%Mmin%Ssec\")\n",
    "submission.to_csv('../submissions/catboost_submission_{}'.format(now))"
   ]
  }
 ],
 "metadata": {
  "kernelspec": {
   "display_name": "Python 3",
   "language": "python",
   "name": "python3"
  },
  "language_info": {
   "codemirror_mode": {
    "name": "ipython",
    "version": 3
   },
   "file_extension": ".py",
   "mimetype": "text/x-python",
   "name": "python",
   "nbconvert_exporter": "python",
   "pygments_lexer": "ipython3",
   "version": "3.8.8"
  }
 },
 "nbformat": 4,
 "nbformat_minor": 5
}
